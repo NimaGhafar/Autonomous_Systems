{
 "cells": [
  {
   "cell_type": "markdown",
   "metadata": {},
   "source": [
    "# Connect fours\n"
   ]
  },
  {
   "cell_type": "code",
   "execution_count": 2,
   "metadata": {},
   "outputs": [],
   "source": [
    "#imports\n",
    "import os\n",
    "import numpy as np\n",
    "import matplotlib.pyplot as plt\n",
    "from pettingzoo.classic import connect_four_v3"
   ]
  },
  {
   "cell_type": "markdown",
   "metadata": {},
   "source": [
    "# Probleemstelling\n",
    "\n",
    "Connect Four is een strategisch bordspel waarin twee spelers om de beurt schijven in een bord laten vallen. Het doel is om als eerste vier schijven op een rij te krijgen, horizontaal, verticaal of diagonaal.Het kan erg lastig zijn voor spelers om telkens de beste zet te maken. Omdat het spel meerdere mogelijke zetten en strategische varianten heeft, zien spelers niet altijd alle kansen of dreigingen. Dit kan leiden tot fouten: spelers missen soms een winnende zet of laten de tegenstander een winnende kans liggen.\n",
    "\n",
    "**Doelstelling**\n",
    "\n",
    "We willen een systeem ontwikkelen dat automatisch de beste zet bepaalt om:\n",
    "\n",
    "- Het risico op fouten te verkleinen. \n",
    "- Het spel strategisch wordt benaderd, zowel om te winnen als om te voorkomen dat de tegenstander wint.\n",
    "\n",
    "\n",
    "**Een rule-based systeem is geschikt omdat Connect Four duidelijke regels heeft, zoals:**\n",
    "\n",
    "- Spelers doen om de beurt een zet.\n",
    "- Een schijf valt naar de laagste vrije plek in een kolom.\n",
    "- Het doel is om vier op een rij te krijgen.\n",
    "\n",
    "\n",
    "**Met een rule-based systeem kun je deze regels programmeren zonder dat het systeem zelf hoeft te leren via data. Je maakt gewoon een set regels die het systeem volgt, zoals:**\n",
    "\n",
    "- Blokkeer de tegenstander als die bijna wint.\n",
    "- Maak een winnende zet als dit mogelijk is.\n",
    "- Neem het midden in beslag\n",
    "\n",
    "\n",
    "**Voordelen van een rule based system**\n",
    "- Eenvoudig te begrijpen: De regels van Connect Four zijn helder en kunnen direct als logische voorwaarden worden geprogrammeerd.\n",
    "- Snelle implementatie: Je hoeft geen grote dataset te verzamelen en te trainen zoals bij machine learning.\n",
    "- Controleerbaarheid: Omdat het regels volgt die zelf zijn gemaakt, weet je waarom het systeem bepaalde beslissingen neemt.\n",
    "  \n",
    "**Machine learning zou hier minder effectief zijn omdat:**\n",
    "- Veel data nodig: Machine learning vereist grote hoeveelheden data om effectief te zijn.\n",
    "- Onvoorspelbaar: Het model mogelijk willekeurige beslissingen neemt zonder dat je weet waarom.\n",
    "- Minder uitlegbaar: Het is lastiger om te begrijpen waarom het model een bepaalde zet kiest."
   ]
  },
  {
   "cell_type": "markdown",
   "metadata": {},
   "source": [
    "# Methodologie\n",
    "\n",
    "**Ontwerp van de regels**\n",
    "\n",
    "Het rule-based systeem past regels in een vaste volgorde toe om de meest optimale zet te bepalen. De regels zijn als volgt:\n",
    "\n",
    "1.\tMaak een winnende zet: Controleer of er een zet is die direct leidt tot vier op een rij en voer deze uit.\n",
    "2.\tBlokkeer de tegenstander: Als de tegenstander dreigt te winnen, blokkeer deze zet.\n",
    "3.\tSpeel naar het midden: Indien er geen directe winst of blokkering nodig is, kies dan voor een zet in het midden van het bord. Dit geeft later meer kansen. \n",
    "4.\tBouw kansen: Plaats schijven zodanig dat ze toekomstige winnende lijnen mogelijk maken.\n",
    "5.\tVoorkom meerdere opties voor de tegenstander: Minimaliseer de kansen voor de tegenstander om verschillende dreigingen tegelijkertijd te vormen.\n",
    "\n",
    "\n",
    "**Implementatiedetails**\n",
    "\n",
    "De implementatie is opgebouwd uit de volgende stappen:\n",
    "\n",
    "1.\tSpelbord representatie: Er wordt een bord gemaakt waarin lege vakjes, schijven van speler 1 en schijven van speler 2 worden weergegeven.\n",
    "2.\tRegelcontrole: Elke regel wordt in volgorde toegepast. Zodra een regel een geldige zet vindt, wordt deze uitgevoerd.\n",
    "3.\tPrioritering: De regels worden in een vaste volgorde verwerkt. Wanneer een hogere prioriteitsregel wordt geactiveerd, wordt deze direct uitgevoerd en worden lagere regels overgeslagen."
   ]
  },
  {
   "cell_type": "code",
   "execution_count": 3,
   "metadata": {},
   "outputs": [],
   "source": [
    "os.chdir(\"..\")  # dit gaat 1 map omhoog"
   ]
  },
  {
   "cell_type": "code",
   "execution_count": 4,
   "metadata": {},
   "outputs": [],
   "source": [
    "from src.agents import ConnectFourAgent, RandomAgent, DoubleMoveAgent"
   ]
  },
  {
   "cell_type": "code",
   "execution_count": 5,
   "metadata": {},
   "outputs": [
    {
     "name": "stderr",
     "output_type": "stream",
     "text": [
      ".\n",
      "----------------------------------------------------------------------\n",
      "Ran 1 test in 0.000s\n",
      "\n",
      "OK\n"
     ]
    }
   ],
   "source": [
    "!python -m unittest discover tests"
   ]
  },
  {
   "cell_type": "markdown",
   "metadata": {},
   "source": [
    "# Validatie en vergelijking"
   ]
  },
  {
   "cell_type": "code",
   "execution_count": 6,
   "metadata": {},
   "outputs": [],
   "source": [
    "def evaluate_agents(agent1, agent2, n_games=50):\n",
    "    \"\"\"\n",
    "    Laat agent1 en agent2 meerdere potjes Connect Four spelen.\n",
    "\n",
    "    Parameters:\n",
    "    - agent1: De eerste agent die deelneemt aan het spel.\n",
    "    - agent2: De tweede agent die deelneemt aan het spel. \n",
    "    - n_games (int, optioneel): Het aantal spellen dat de agents tegen elkaar spelen. \n",
    "\n",
    "    Returns:\n",
    "    - wins_agent1 (int): Het aantal overwinningen van agent1.\n",
    "    - wins_agent2 (int): Het aantal overwinningen van agent2.\n",
    "    - draws (int): Het aantal gelijke spelen.\n",
    "    \n",
    "    \"\"\"\n",
    "    wins_agent1 = 0\n",
    "    wins_agent2 = 0\n",
    "    draws = 0\n",
    "\n",
    "    for _ in range(n_games):\n",
    "        env = connect_four_v3.env(render_mode=None)\n",
    "        env.reset()\n",
    "        \n",
    "        done = False\n",
    "        \n",
    "        while not done:\n",
    "            obs = env.observe(env.agent_selection)\n",
    "            board = obs['observation'][:,:,0]\n",
    "            \n",
    "            current_player_id = 1 if env.agent_selection == \"player_0\" else 2\n",
    "            \n",
    "            # Kies de juiste agent\n",
    "            if current_player_id == agent1.player:\n",
    "                move = agent1.select_action(board)\n",
    "            else:\n",
    "                move = agent2.select_action(board)\n",
    "            \n",
    "            env.step(move)\n",
    "            done = any(env.terminations.values()) or any(env.truncations.values())\n",
    "\n",
    "        reward_p0 = env.rewards[\"player_0\"]\n",
    "        reward_p1 = env.rewards[\"player_1\"]\n",
    "        if reward_p0 == 1:\n",
    "            winner = 1\n",
    "        elif reward_p1 == 1:\n",
    "            winner = 2\n",
    "        else:\n",
    "            winner = 0  # gelijkspel\n",
    "\n",
    "        if winner == agent1.player:\n",
    "            wins_agent1 += 1\n",
    "        elif winner == agent2.player:\n",
    "            wins_agent2 += 1\n",
    "        else:\n",
    "            draws += 1\n",
    "\n",
    "    return wins_agent1, wins_agent2, draws"
   ]
  },
  {
   "cell_type": "code",
   "execution_count": 6,
   "metadata": {},
   "outputs": [
    {
     "name": "stdout",
     "output_type": "stream",
     "text": [
      "Resultaten over 10 potjes:\n",
      " - Rule-based agent (player=1) heeft gewonnen: 2\n",
      " - Random agent     (player=2) heeft gewonnen: 1\n",
      " - Gelijke spelen: 0\n"
     ]
    }
   ],
   "source": [
    "# Maak de agents aan\n",
    "rule_agent = ConnectFourAgent(player=1)\n",
    "random_agent = RandomAgent(player=2)\n",
    "\n",
    "# 50 potjes spelen\n",
    "wins_rule, wins_random, draws = evaluate_agents(rule_agent, random_agent, n_games=3)\n",
    "\n",
    "print(f\"Resultaten over 10 potjes:\")\n",
    "print(f\" - Rule-based agent (player=1) heeft gewonnen: {wins_rule}\")\n",
    "print(f\" - Random agent     (player=2) heeft gewonnen: {wins_random}\")\n",
    "print(f\" - Gelijke spelen: {draws}\")"
   ]
  },
  {
   "cell_type": "code",
   "execution_count": 7,
   "metadata": {},
   "outputs": [
    {
     "data": {
      "image/png": "[encoded data removed]",
      "text/plain": [
       "<Figure size 640x480 with 1 Axes>"
      ]
     },
     "metadata": {},
     "output_type": "display_data"
    }
   ],
   "source": [
    "labels = [\"Rule-based agent wins\", \"Random agent wins\", \"Draws\"]\n",
    "scores = [wins_rule, wins_random, draws]\n",
    "\n",
    "plt.bar(labels, scores)\n",
    "plt.title(\"Connect Four: Rule-based vs. Random (50 games)\")\n",
    "plt.xlabel(\"Result Type\")\n",
    "plt.ylabel(\"Count\")\n",
    "plt.show()"
   ]
  },
  {
   "cell_type": "code",
   "execution_count": 8,
   "metadata": {},
   "outputs": [
    {
     "name": "stdout",
     "output_type": "stream",
     "text": [
      "[WARNING]: Illegal move made, game terminating with current player losing. \n",
      "obs['action_mask'] contains a mask of all legal moves that can be chosen.\n",
      "[WARNING]: Illegal move made, game terminating with current player losing. \n",
      "obs['action_mask'] contains a mask of all legal moves that can be chosen.\n"
     ]
    },
    {
     "ename": "KeyboardInterrupt",
     "evalue": "",
     "output_type": "error",
     "traceback": [
      "\u001b[1;31m---------------------------------------------------------------------------\u001b[0m",
      "\u001b[1;31mKeyboardInterrupt\u001b[0m                         Traceback (most recent call last)",
      "Cell \u001b[1;32mIn[8], line 6\u001b[0m\n\u001b[0;32m      4\u001b[0m \u001b[38;5;66;03m# ConnectFourAgent vs RandomAgent\u001b[39;00m\n\u001b[0;32m      5\u001b[0m connect_four_agent \u001b[38;5;241m=\u001b[39m ConnectFourAgent(player\u001b[38;5;241m=\u001b[39m\u001b[38;5;241m1\u001b[39m)\n\u001b[1;32m----> 6\u001b[0m wins_connect, wins_random_c4, draws_c4 \u001b[38;5;241m=\u001b[39m evaluate_agents(connect_four_agent, random_agent, n_games\u001b[38;5;241m=\u001b[39m\u001b[38;5;241m100\u001b[39m)\n\u001b[0;32m      8\u001b[0m \u001b[38;5;28mprint\u001b[39m(\u001b[38;5;124m\"\u001b[39m\u001b[38;5;124mResultaten: ConnectFourAgent vs RandomAgent\u001b[39m\u001b[38;5;124m\"\u001b[39m)\n\u001b[0;32m      9\u001b[0m \u001b[38;5;28mprint\u001b[39m(\u001b[38;5;124mf\u001b[39m\u001b[38;5;124m\"\u001b[39m\u001b[38;5;124m - ConnectFourAgent (player=1) heeft gewonnen: \u001b[39m\u001b[38;5;132;01m{\u001b[39;00mwins_connect\u001b[38;5;132;01m}\u001b[39;00m\u001b[38;5;124m\"\u001b[39m)\n",
      "Cell \u001b[1;32mIn[6], line 34\u001b[0m, in \u001b[0;36mevaluate_agents\u001b[1;34m(agent1, agent2, n_games)\u001b[0m\n\u001b[0;32m     32\u001b[0m \u001b[38;5;66;03m# Kies de juiste agent\u001b[39;00m\n\u001b[0;32m     33\u001b[0m \u001b[38;5;28;01mif\u001b[39;00m current_player_id \u001b[38;5;241m==\u001b[39m agent1\u001b[38;5;241m.\u001b[39mplayer:\n\u001b[1;32m---> 34\u001b[0m     move \u001b[38;5;241m=\u001b[39m agent1\u001b[38;5;241m.\u001b[39mselect_action(board)\n\u001b[0;32m     35\u001b[0m \u001b[38;5;28;01melse\u001b[39;00m:\n\u001b[0;32m     36\u001b[0m     move \u001b[38;5;241m=\u001b[39m agent2\u001b[38;5;241m.\u001b[39mselect_action(board)\n",
      "File \u001b[1;32mc:\\Users\\Nima\\OneDrive - Reza Company\\Desktop\\Nima+\\School\\Autonomous_Systems\\src\\agents.py:47\u001b[0m, in \u001b[0;36mConnectFourAgent.select_action\u001b[1;34m(self, board)\u001b[0m\n\u001b[0;32m     45\u001b[0m temp_board \u001b[38;5;241m=\u001b[39m board\u001b[38;5;241m.\u001b[39mcopy()\n\u001b[0;32m     46\u001b[0m \u001b[38;5;28mself\u001b[39m\u001b[38;5;241m.\u001b[39mmake_move(temp_board, col, \u001b[38;5;28mself\u001b[39m\u001b[38;5;241m.\u001b[39mplayer)\n\u001b[1;32m---> 47\u001b[0m score \u001b[38;5;241m=\u001b[39m \u001b[38;5;28mself\u001b[39m\u001b[38;5;241m.\u001b[39mminimax(temp_board, depth \u001b[38;5;241m-\u001b[39m \u001b[38;5;241m1\u001b[39m, \u001b[38;5;241m-\u001b[39mmath\u001b[38;5;241m.\u001b[39minf, math\u001b[38;5;241m.\u001b[39minf, \u001b[38;5;28;01mFalse\u001b[39;00m)\n\u001b[0;32m     48\u001b[0m \u001b[38;5;28;01mif\u001b[39;00m score \u001b[38;5;241m>\u001b[39m best_score:\n\u001b[0;32m     49\u001b[0m     best_score \u001b[38;5;241m=\u001b[39m score\n",
      "File \u001b[1;32mc:\\Users\\Nima\\OneDrive - Reza Company\\Desktop\\Nima+\\School\\Autonomous_Systems\\src\\agents.py:101\u001b[0m, in \u001b[0;36mConnectFourAgent.minimax\u001b[1;34m(self, board, depth, alpha, beta, maximizingPlayer)\u001b[0m\n\u001b[0;32m     99\u001b[0m temp_board \u001b[38;5;241m=\u001b[39m board\u001b[38;5;241m.\u001b[39mcopy()\n\u001b[0;32m    100\u001b[0m \u001b[38;5;28mself\u001b[39m\u001b[38;5;241m.\u001b[39mmake_move(temp_board, col, \u001b[38;5;241m3\u001b[39m \u001b[38;5;241m-\u001b[39m \u001b[38;5;28mself\u001b[39m\u001b[38;5;241m.\u001b[39mplayer)\n\u001b[1;32m--> 101\u001b[0m value \u001b[38;5;241m=\u001b[39m \u001b[38;5;28mmin\u001b[39m(value, \u001b[38;5;28mself\u001b[39m\u001b[38;5;241m.\u001b[39mminimax(temp_board, depth \u001b[38;5;241m-\u001b[39m \u001b[38;5;241m1\u001b[39m, alpha, beta, \u001b[38;5;28;01mTrue\u001b[39;00m))\n\u001b[0;32m    102\u001b[0m beta \u001b[38;5;241m=\u001b[39m \u001b[38;5;28mmin\u001b[39m(beta, value)\n\u001b[0;32m    103\u001b[0m \u001b[38;5;28;01mif\u001b[39;00m alpha \u001b[38;5;241m>\u001b[39m\u001b[38;5;241m=\u001b[39m beta:\n",
      "File \u001b[1;32mc:\\Users\\Nima\\OneDrive - Reza Company\\Desktop\\Nima+\\School\\Autonomous_Systems\\src\\agents.py:89\u001b[0m, in \u001b[0;36mConnectFourAgent.minimax\u001b[1;34m(self, board, depth, alpha, beta, maximizingPlayer)\u001b[0m\n\u001b[0;32m     87\u001b[0m temp_board \u001b[38;5;241m=\u001b[39m board\u001b[38;5;241m.\u001b[39mcopy()\n\u001b[0;32m     88\u001b[0m \u001b[38;5;28mself\u001b[39m\u001b[38;5;241m.\u001b[39mmake_move(temp_board, col, \u001b[38;5;28mself\u001b[39m\u001b[38;5;241m.\u001b[39mplayer)\n\u001b[1;32m---> 89\u001b[0m value \u001b[38;5;241m=\u001b[39m \u001b[38;5;28mmax\u001b[39m(value, \u001b[38;5;28mself\u001b[39m\u001b[38;5;241m.\u001b[39mminimax(temp_board, depth \u001b[38;5;241m-\u001b[39m \u001b[38;5;241m1\u001b[39m, alpha, beta, \u001b[38;5;28;01mFalse\u001b[39;00m))\n\u001b[0;32m     90\u001b[0m alpha \u001b[38;5;241m=\u001b[39m \u001b[38;5;28mmax\u001b[39m(alpha, value)\n\u001b[0;32m     91\u001b[0m \u001b[38;5;28;01mif\u001b[39;00m alpha \u001b[38;5;241m>\u001b[39m\u001b[38;5;241m=\u001b[39m beta:\n",
      "File \u001b[1;32mc:\\Users\\Nima\\OneDrive - Reza Company\\Desktop\\Nima+\\School\\Autonomous_Systems\\src\\agents.py:101\u001b[0m, in \u001b[0;36mConnectFourAgent.minimax\u001b[1;34m(self, board, depth, alpha, beta, maximizingPlayer)\u001b[0m\n\u001b[0;32m     99\u001b[0m temp_board \u001b[38;5;241m=\u001b[39m board\u001b[38;5;241m.\u001b[39mcopy()\n\u001b[0;32m    100\u001b[0m \u001b[38;5;28mself\u001b[39m\u001b[38;5;241m.\u001b[39mmake_move(temp_board, col, \u001b[38;5;241m3\u001b[39m \u001b[38;5;241m-\u001b[39m \u001b[38;5;28mself\u001b[39m\u001b[38;5;241m.\u001b[39mplayer)\n\u001b[1;32m--> 101\u001b[0m value \u001b[38;5;241m=\u001b[39m \u001b[38;5;28mmin\u001b[39m(value, \u001b[38;5;28mself\u001b[39m\u001b[38;5;241m.\u001b[39mminimax(temp_board, depth \u001b[38;5;241m-\u001b[39m \u001b[38;5;241m1\u001b[39m, alpha, beta, \u001b[38;5;28;01mTrue\u001b[39;00m))\n\u001b[0;32m    102\u001b[0m beta \u001b[38;5;241m=\u001b[39m \u001b[38;5;28mmin\u001b[39m(beta, value)\n\u001b[0;32m    103\u001b[0m \u001b[38;5;28;01mif\u001b[39;00m alpha \u001b[38;5;241m>\u001b[39m\u001b[38;5;241m=\u001b[39m beta:\n",
      "File \u001b[1;32mc:\\Users\\Nima\\OneDrive - Reza Company\\Desktop\\Nima+\\School\\Autonomous_Systems\\src\\agents.py:81\u001b[0m, in \u001b[0;36mConnectFourAgent.minimax\u001b[1;34m(self, board, depth, alpha, beta, maximizingPlayer)\u001b[0m\n\u001b[0;32m     79\u001b[0m             \u001b[38;5;28;01mreturn\u001b[39;00m \u001b[38;5;241m0\u001b[39m  \u001b[38;5;66;03m# Gelijkspel\u001b[39;00m\n\u001b[0;32m     80\u001b[0m     \u001b[38;5;28;01melse\u001b[39;00m:\n\u001b[1;32m---> 81\u001b[0m         \u001b[38;5;28;01mreturn\u001b[39;00m \u001b[38;5;28mself\u001b[39m\u001b[38;5;241m.\u001b[39mevaluate_board(board)\n\u001b[0;32m     83\u001b[0m \u001b[38;5;28;01mif\u001b[39;00m maximizingPlayer:\n\u001b[0;32m     84\u001b[0m     value \u001b[38;5;241m=\u001b[39m \u001b[38;5;241m-\u001b[39mmath\u001b[38;5;241m.\u001b[39minf\n",
      "File \u001b[1;32mc:\\Users\\Nima\\OneDrive - Reza Company\\Desktop\\Nima+\\School\\Autonomous_Systems\\src\\agents.py:122\u001b[0m, in \u001b[0;36mConnectFourAgent.evaluate_board\u001b[1;34m(self, board)\u001b[0m\n\u001b[0;32m    120\u001b[0m score \u001b[38;5;241m=\u001b[39m \u001b[38;5;241m0\u001b[39m\n\u001b[0;32m    121\u001b[0m score \u001b[38;5;241m+\u001b[39m\u001b[38;5;241m=\u001b[39m \u001b[38;5;28mself\u001b[39m\u001b[38;5;241m.\u001b[39mscore_position(board, \u001b[38;5;28mself\u001b[39m\u001b[38;5;241m.\u001b[39mplayer)\n\u001b[1;32m--> 122\u001b[0m score \u001b[38;5;241m-\u001b[39m\u001b[38;5;241m=\u001b[39m \u001b[38;5;28mself\u001b[39m\u001b[38;5;241m.\u001b[39mscore_position(board, \u001b[38;5;241m3\u001b[39m \u001b[38;5;241m-\u001b[39m \u001b[38;5;28mself\u001b[39m\u001b[38;5;241m.\u001b[39mplayer)\n\u001b[0;32m    123\u001b[0m \u001b[38;5;28;01mreturn\u001b[39;00m score\n",
      "File \u001b[1;32mc:\\Users\\Nima\\OneDrive - Reza Company\\Desktop\\Nima+\\School\\Autonomous_Systems\\src\\agents.py:144\u001b[0m, in \u001b[0;36mConnectFourAgent.score_position\u001b[1;34m(self, board, player)\u001b[0m\n\u001b[0;32m    142\u001b[0m     \u001b[38;5;28;01mfor\u001b[39;00m row \u001b[38;5;129;01min\u001b[39;00m \u001b[38;5;28mrange\u001b[39m(board\u001b[38;5;241m.\u001b[39mshape[\u001b[38;5;241m0\u001b[39m] \u001b[38;5;241m-\u001b[39m \u001b[38;5;241m3\u001b[39m):\n\u001b[0;32m    143\u001b[0m         window \u001b[38;5;241m=\u001b[39m col_array[row:row\u001b[38;5;241m+\u001b[39m\u001b[38;5;241m4\u001b[39m]\n\u001b[1;32m--> 144\u001b[0m         score \u001b[38;5;241m+\u001b[39m\u001b[38;5;241m=\u001b[39m \u001b[38;5;28mself\u001b[39m\u001b[38;5;241m.\u001b[39mevaluate_window(window, player)\n\u001b[0;32m    146\u001b[0m \u001b[38;5;66;03m# Diagonale windows (positieve helling)\u001b[39;00m\n\u001b[0;32m    147\u001b[0m \u001b[38;5;28;01mfor\u001b[39;00m row \u001b[38;5;129;01min\u001b[39;00m \u001b[38;5;28mrange\u001b[39m(board\u001b[38;5;241m.\u001b[39mshape[\u001b[38;5;241m0\u001b[39m] \u001b[38;5;241m-\u001b[39m \u001b[38;5;241m3\u001b[39m):\n",
      "File \u001b[1;32mc:\\Users\\Nima\\OneDrive - Reza Company\\Desktop\\Nima+\\School\\Autonomous_Systems\\src\\agents.py:166\u001b[0m, in \u001b[0;36mConnectFourAgent.evaluate_window\u001b[1;34m(self, window, player)\u001b[0m\n\u001b[0;32m    164\u001b[0m \u001b[38;5;28;01mif\u001b[39;00m window\u001b[38;5;241m.\u001b[39mcount(player) \u001b[38;5;241m==\u001b[39m \u001b[38;5;241m4\u001b[39m:\n\u001b[0;32m    165\u001b[0m     score \u001b[38;5;241m+\u001b[39m\u001b[38;5;241m=\u001b[39m \u001b[38;5;241m10000\u001b[39m\n\u001b[1;32m--> 166\u001b[0m \u001b[38;5;28;01melif\u001b[39;00m window\u001b[38;5;241m.\u001b[39mcount(player) \u001b[38;5;241m==\u001b[39m \u001b[38;5;241m3\u001b[39m \u001b[38;5;129;01mand\u001b[39;00m window\u001b[38;5;241m.\u001b[39mcount(\u001b[38;5;241m0\u001b[39m) \u001b[38;5;241m==\u001b[39m \u001b[38;5;241m1\u001b[39m:\n\u001b[0;32m    167\u001b[0m     score \u001b[38;5;241m+\u001b[39m\u001b[38;5;241m=\u001b[39m \u001b[38;5;241m100\u001b[39m\n\u001b[0;32m    168\u001b[0m \u001b[38;5;28;01melif\u001b[39;00m window\u001b[38;5;241m.\u001b[39mcount(player) \u001b[38;5;241m==\u001b[39m \u001b[38;5;241m2\u001b[39m \u001b[38;5;129;01mand\u001b[39;00m window\u001b[38;5;241m.\u001b[39mcount(\u001b[38;5;241m0\u001b[39m) \u001b[38;5;241m==\u001b[39m \u001b[38;5;241m2\u001b[39m:\n",
      "\u001b[1;31mKeyboardInterrupt\u001b[0m: "
     ]
    }
   ],
   "source": [
    "# Maak de agents aan\n",
    "random_agent = RandomAgent(player=2)\n",
    "\n",
    "# ConnectFourAgent vs RandomAgent\n",
    "connect_four_agent = ConnectFourAgent(player=1)\n",
    "wins_connect, wins_random_c4, draws_c4 = evaluate_agents(connect_four_agent, random_agent, n_games=100)\n",
    "\n",
    "print(\"Resultaten: ConnectFourAgent vs RandomAgent\")\n",
    "print(f\" - ConnectFourAgent (player=1) heeft gewonnen: {wins_connect}\")\n",
    "print(f\" - RandomAgent (player=2) heeft gewonnen: {wins_random_c4}\")\n",
    "print(f\" - Gelijke spelen: {draws_c4}\")\n",
    "\n",
    "# DoubleMoveAgent vs RandomAgent\n",
    "double_move_agent = DoubleMoveAgent(player=1)\n",
    "wins_double, wins_random_dm, draws_dm = evaluate_agents(double_move_agent, random_agent, n_games=100)\n",
    "\n",
    "print(\"\\nResultaten: DoubleMoveAgent vs RandomAgent\")\n",
    "print(f\" - DoubleMoveAgent (player=1) heeft gewonnen: {wins_double}\")\n",
    "print(f\" - RandomAgent (player=2) heeft gewonnen: {wins_random_dm}\")\n",
    "print(f\" - Gelijke spelen: {draws_dm}\")"
   ]
  },
  {
   "cell_type": "markdown",
   "metadata": {},
   "source": [
    "Hier zijn de drie agents uitgelegd in simpele taal, inclusief hoe ze werken, waarom ze zo zijn ontworpen, en hun voor- en nadelen:\n",
    "\n",
    "1. ConnectFourAgent\n",
    "Slimme agent die gebruikmaakt van Minimax met alpha-beta pruning en iteratieve verdieping\n",
    "\n",
    "Hoe werkt het?\n",
    "Minimax-algoritme:\n",
    "\n",
    "De agent denkt vooruit en probeert uit te rekenen wat de beste zet is.\n",
    "\n",
    "Hij kijkt naar elke mogelijke zet en probeert te voorspellen hoe de tegenstander zal reageren.\n",
    "\n",
    "Het doel is om een zet te kiezen die leidt tot winst of de tegenstander dwingt tot een slechte zet.\n",
    "\n",
    "Alpha-beta pruning:\n",
    "\n",
    "Het algoritme stopt met het bekijken van sommige zetten als het zeker is dat ze slechter zijn dan een andere optie.\n",
    "\n",
    "Dit bespaart rekentijd en maakt het algoritme sneller.\n",
    "\n",
    "Iteratieve verdieping:\n",
    "\n",
    "De agent zoekt eerst oppervlakkig naar de beste zet (bijvoorbeeld 1 stap vooruit).\n",
    "\n",
    "Daarna zoekt hij dieper (2 stappen, dan 3 stappen, enz.) zolang er genoeg tijd is.\n",
    "\n",
    "Als de tijd bijna op is, gebruikt hij de beste zet die hij tot dan toe heeft gevonden.\n",
    "\n",
    "Transpositietabel:\n",
    "\n",
    "De agent onthoudt eerder berekende standen in een soort geheugen (hash table).\n",
    "\n",
    "Als hij dezelfde stand later opnieuw tegenkomt, hoeft hij die niet opnieuw te berekenen — dat bespaart tijd.\n",
    "\n",
    "Move ordering:\n",
    "\n",
    "De agent onderzoekt eerst zetten die dichter bij het midden van het bord zijn, omdat die vaak sterker zijn.\n",
    "\n",
    "Waarom werkt het zo?\n",
    "Minimax is een krachtig algoritme voor spellen waarbij twee spelers om de beurt spelen.\n",
    "\n",
    "Alpha-beta pruning versnelt het algoritme aanzienlijk door overbodige zetten over te slaan.\n",
    "\n",
    "Iteratieve verdieping zorgt ervoor dat de agent slim omgaat met beperkte rekentijd.\n",
    "\n",
    "De transpositietabel voorkomt dubbel werk en bespaart tijd.\n",
    "\n",
    "Moves in het midden van het bord zijn vaak beter omdat ze meer verbindingsmogelijkheden geven.\n",
    "\n",
    "Voordelen:\n",
    "Heel slim: moeilijk te verslaan.\n",
    "Past zich aan aan de beschikbare rekentijd.\n",
    "Kan complexe strategieën uitvoeren.\n",
    "Sneller door het gebruik van alpha-beta pruning en transpositietabel.\n",
    "\n",
    "Nadelen:\n",
    "Kost veel rekentijd als het bord bijna vol is.\n",
    "Werkt minder goed als het bord heel groot is.\n",
    "Heeft moeite met situaties waarbij er heel veel goede zetten zijn.\n",
    "2. RandomAgent\n",
    "Simpelste agent die een willekeurige zet doet\n",
    "\n",
    "Hoe werkt het?\n",
    "De agent kijkt naar alle kolommen waar nog een zet mogelijk is.\n",
    "\n",
    "Hij kiest willekeurig één van die kolommen.\n",
    "\n",
    "Waarom werkt het zo?\n",
    "Een random agent is makkelijk te programmeren en dient als basis om te testen of het spel werkt.\n",
    "\n",
    "Het is een snelle manier om te controleren of het spelmechanisme goed werkt.\n",
    "\n",
    "Voordelen:\n",
    "Supersimpel.\n",
    "Werkt altijd.\n",
    "Snelle reactie omdat er weinig rekentijd nodig is.\n",
    "\n",
    "Nadelen:\n",
    "Helemaal niet slim — makkelijk te verslaan.\n",
    "Geen strategie of planning.\n",
    "\n",
    "3. DoubleMoveAgent\n",
    "Rule-based agent die probeert een dubbele zet te forceren\n",
    "\n",
    "Hoe werkt het?\n",
    "Dubbele zet proberen te maken:\n",
    "\n",
    "De agent kijkt eerst of hij een zet kan doen waardoor hij op de volgende beurt twee winnende mogelijkheden krijgt (een dubbele dreiging).\n",
    "\n",
    "Als dat lukt, zal de tegenstander onmogelijk beide dreigingen kunnen blokkeren.\n",
    "\n",
    "Blokkeren van de tegenstander:\n",
    "\n",
    "Als de tegenstander een directe winstkans heeft, zal de agent die blokkeren.\n",
    "\n",
    "Opnieuw proberen een dubbele zet te maken:\n",
    "\n",
    "Als het blokken klaar is, probeert de agent opnieuw een dubbele zet te creëren.\n",
    "\n",
    "Willekeurige zet:\n",
    "\n",
    "Als er geen dubbele zet of blok mogelijk is, kiest de agent een willekeurige zet.\n",
    "\n",
    "Waarom werkt het zo?\n",
    "Dubbele dreigingen zijn moeilijk te verdedigen, waardoor deze strategie effectief is.\n",
    "\n",
    "Het blokkeren van directe winstkansen voorkomt snelle nederlagen.\n",
    "\n",
    "Als er geen slimme zet is, maakt het doen van een willekeurige zet het spel dynamisch.\n",
    "\n",
    "Voordelen:\n",
    "Kiest vaak goede zetten omdat dubbele dreigingen krachtig zijn.\n",
    "Blokkeert slimme tegenstanders effectief.\n",
    "Makkelijker te programmeren dan Minimax.\n",
    "\n",
    "Nadelen:\n",
    "Werkt alleen goed als er ruimte is om dubbele dreigingen te maken.\n",
    "Soms voorspelbaar omdat het altijd dezelfde regels volgt.\n",
    "Slechter dan Minimax in complexe situaties."
   ]
  },
  {
   "cell_type": "code",
   "execution_count": 6,
   "metadata": {},
   "outputs": [
    {
     "name": "stdout",
     "output_type": "stream",
     "text": [
      "Kies een kolom (0-6): \n"
     ]
    }
   ],
   "source": [
    "!python src/main.py"
   ]
  },
  {
   "cell_type": "markdown",
   "metadata": {},
   "source": [
    "# Resultaten\n",
    "\n",
    "Uit de bovenstaande grafiek blijkt dat de rule-based agent het vaakst heeft gewonnen. Dit laat zien dat het werken met regels effectief is. De Random agent, die willekeurige zetten doet zonder strategie, heeft daarentegen minder dan vijf keer gewonnen. Dit bevestigt dat de rule-based agent beter presteert."
   ]
  },
  {
   "cell_type": "markdown",
   "metadata": {},
   "source": [
    "# Refelctie\n",
    "\n",
    "**evaluatie**\n",
    "\n",
    "**beperkingen**"
   ]
  }
 ],
 "metadata": {
  "kernelspec": {
   "display_name": "base",
   "language": "python",
   "name": "python3"
  },
  "language_info": {
   "codemirror_mode": {
    "name": "ipython",
    "version": 3
   },
   "file_extension": ".py",
   "mimetype": "text/x-python",
   "name": "python",
   "nbconvert_exporter": "python",
   "pygments_lexer": "ipython3",
   "version": "3.12.4"
  }
 },
 "nbformat": 4,
 "nbformat_minor": 4
}
