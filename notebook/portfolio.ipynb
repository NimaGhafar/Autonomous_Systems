{
 "cells": [
  {
   "cell_type": "markdown",
   "metadata": {},
   "source": [
    "\n",
    "<div style=\"background-color:white; text-align:center; padding:20px;\">\n",
    "    <h2 style=\"color:black; font-family: Verdana, sans-serif;\"><strong>De beste vier op een rij strategie</strong></h2>\n",
    "    <p style=\"font-size: 14px; color: black; font-family: Verdana, sans-serif;\"> \n",
    "        <table style=\"margin: auto; border-collapse: collapse;\">\n",
    "            <tr>\n",
    "                <th style=\"border: 0;\">Names</th>\n",
    "                <th style=\"border: 0;\">GitHub Username</th>\n",
    "            </tr>\n",
    "            <tr>\n",
    "                <td style=\"border: 0;\">Vince Ammerlaan</td>\n",
    "                <td style=\"border: 0;\">Vince16270</td>\n",
    "            </tr>\n",
    "            <tr>\n",
    "                <td style=\"border: 0;\">Tommi Lander</td>\n",
    "                <td style=\"border: 0;\">tommi7</td>\n",
    "            </tr>\n",
    "            <tr>\n",
    "                <td style=\"border: 0;\">Nima Ghafar</td>\n",
    "                <td style=\"border: 0;\">NimaGhafar</td>\n",
    "            </tr>\n",
    "            <tr>\n",
    "                <td style=\"border: 0;\">Isa Dijkstra</td>\n",
    "                <td style=\"border: 0;\">IsaD01</td>\n",
    "            </tr>\n",
    "        </table>\n",
    "    </p>\n",
    "</div>\n",
    "\n",
    "<div style=\"display: flex; justify-content: center; align-items: center; margin-top: 10px;\">\n",
    "    <img src=\"photo/agent.png\" alt=\"genres\" style=\"width: 1000px; height: auto;\">\n",
    "</div>"
   ]
  },
  {
   "cell_type": "markdown",
   "metadata": {},
   "source": [
    "- Docent: Vikram Radhakrishnan\n",
    "- Datum: 28-03-2025"
   ]
  },
  {
   "cell_type": "markdown",
   "metadata": {},
   "source": [
    "---\n",
    "<div style=\"background-color:white; text-align:center; vertical-align:middle; padding:50px 0; margin-top:5px; margin-bottom:5px\">\n",
    "    <h2 id=\"eda-title\" style=\"color:black; font-family: Verdana, sans-serif; font-size: 25px;\"><strong> Inhoudsopgave </strong></h2>\n",
    "</div>\n",
    "<ul style=\"padding: 0; list-style: none;\">\n",
    "    <li style=\"text-align: center;\"><a href=\"#1.0\">Chapter 1: Het project</a></li>\n",
    "    <li style=\"text-align: center;\"><a href=\"#1.0\">Chapter 2: Packages, functies en agents inladen</a></li>\n",
    "    <li style=\"text-align: center;\"><a href=\"#2.0\">Chapter 3: Verschillende agents tegen elkaar testen</a></li>\n",
    "    <li style=\"text-align: center;\"><a href=\"#3.0\">Chapter 4: Verschillende agents uitgelegd </a></li>\n",
    "    <li style=\"text-align: center;\"><a href=\"#6.0\">Chapter 5: Resultaten van het testen</a></li>\n",
    "    <li style=\"text-align: center;\"><a href=\"#8.0\">Chapter 6: Bronnenlijst</a></li>\n",
    "</ul>"
   ]
  },
  {
   "cell_type": "markdown",
   "metadata": {},
   "source": [
    "---\n",
    "<div style=\"background-color:white; text-align:center; vertical-align:middle; padding:50px 0; margin-top:5px; margin-bottom:5px\">\n",
    "    <h2 id=\"eda-title\" style=\"color:black; font-family: Verdana, sans-serif; font-size: 25px;\"><strong> Chapter 1: Het project </strong></h2>\n",
    "\n",
    "</ul>"
   ]
  },
  {
   "cell_type": "markdown",
   "metadata": {},
   "source": [
    "Connect Four is een strategisch bordspel waarin twee spelers om de beurt schijven in een bord laten vallen. Het doel is om als eerste vier schijven op een rij te krijgen, horizontaal, verticaal of diagonaal.Het kan erg lastig zijn voor spelers om telkens de beste zet te maken. Omdat het spel meerdere mogelijke zetten en strategische varianten heeft, zien spelers niet altijd alle kansen of dreigingen. Dit kan leiden tot fouten: spelers missen soms een winnende zet of laten de tegenstander een winnende kans liggen.\n",
    "\n",
    "**Doelstelling**\n",
    "\n",
    "We willen een systeem ontwikkelen dat automatisch de beste zet bepaalt om:\n",
    "\n",
    "- Het risico op fouten te verkleinen. \n",
    "- Het spel strategisch wordt benaderd, zowel om te winnen als om te voorkomen dat de tegenstander wint.\n",
    "\n",
    "\n",
    "**Een rule-based systeem is geschikt omdat Connect Four duidelijke regels heeft, zoals:**\n",
    "\n",
    "- Spelers doen om de beurt een zet.\n",
    "- Een schijf valt naar de laagste vrije plek in een kolom.\n",
    "- Het doel is om vier op een rij te krijgen.\n",
    "\n",
    "\n",
    "**Met een rule-based systeem kun je deze regels programmeren zonder dat het systeem zelf hoeft te leren via data. Je maakt gewoon een set regels die het systeem volgt, zoals:**\n",
    "\n",
    "- Blokkeer de tegenstander als die bijna wint.\n",
    "- Maak een winnende zet als dit mogelijk is.\n",
    "- Neem het midden in beslag\n",
    "\n",
    "\n",
    "**Voordelen van een rule based system**\n",
    "- Eenvoudig te begrijpen: De regels van Connect Four zijn helder en kunnen direct als logische voorwaarden worden geprogrammeerd.\n",
    "- Snelle implementatie: Je hoeft geen grote dataset te verzamelen en te trainen zoals bij machine learning.\n",
    "- Controleerbaarheid: Omdat het regels volgt die zelf zijn gemaakt, weet je waarom het systeem bepaalde beslissingen neemt.\n",
    "  \n",
    "**Machine learning zou hier minder effectief zijn omdat:**\n",
    "- Veel data nodig: Machine learning vereist grote hoeveelheden data om effectief te zijn.\n",
    "- Onvoorspelbaar: Het model mogelijk willekeurige beslissingen neemt zonder dat je weet waarom.\n",
    "- Minder uitlegbaar: Het is lastiger om te begrijpen waarom het model een bepaalde zet kiest."
   ]
  },
  {
   "cell_type": "markdown",
   "metadata": {},
   "source": [
    "#### Methodologie\n",
    "\n",
    "**Ontwerp van de regels**\n",
    "\n",
    "Het rule-based systeem past regels in een vaste volgorde toe om de meest optimale zet te bepalen. De regels zijn als volgt:\n",
    "\n",
    "1.\tMaak een winnende zet: Controleer of er een zet is die direct leidt tot vier op een rij en voer deze uit.\n",
    "2.\tBlokkeer de tegenstander: Als de tegenstander dreigt te winnen, blokkeer deze zet.\n",
    "3.\tSpeel naar het midden: Indien er geen directe winst of blokkering nodig is, kies dan voor een zet in het midden van het bord. Dit geeft later meer kansen. \n",
    "4.\tBouw kansen: Plaats schijven zodanig dat ze toekomstige winnende lijnen mogelijk maken.\n",
    "5.\tVoorkom meerdere opties voor de tegenstander: Minimaliseer de kansen voor de tegenstander om verschillende dreigingen tegelijkertijd te vormen.\n",
    "\n",
    "\n",
    "**Implementatiedetails**\n",
    "\n",
    "De implementatie is opgebouwd uit de volgende stappen:\n",
    "\n",
    "1.\tSpelbord representatie: Er wordt een bord gemaakt waarin lege vakjes, schijven van speler 1 en schijven van speler 2 worden weergegeven.\n",
    "2.\tRegelcontrole: Elke regel wordt in volgorde toegepast. Zodra een regel een geldige zet vindt, wordt deze uitgevoerd.\n",
    "3.\tPrioritering: De regels worden in een vaste volgorde verwerkt. Wanneer een hogere prioriteitsregel wordt geactiveerd, wordt deze direct uitgevoerd en worden lagere regels overgeslagen."
   ]
  },
  {
   "cell_type": "markdown",
   "metadata": {},
   "source": [
    "---\n",
    "<div style=\"background-color:white; text-align:center; vertical-align:middle; padding:50px 0; margin-top:5px; margin-bottom:5px\">\n",
    "    <h2 id=\"eda-title\" style=\"color:black; font-family: Verdana, sans-serif; font-size: 25px;\"><strong> Chapter 2: Packages, functies en agents inladen</strong></h2>\n",
    "\n",
    "</ul>"
   ]
  },
  {
   "cell_type": "code",
   "execution_count": null,
   "metadata": {},
   "outputs": [],
   "source": [
    "import os\n",
    "import numpy as np\n",
    "import matplotlib.pyplot as plt\n",
    "from collections import defaultdict\n",
    "from pettingzoo.classic import connect_four_v3"
   ]
  },
  {
   "cell_type": "code",
   "execution_count": 2,
   "metadata": {},
   "outputs": [],
   "source": [
    "os.chdir(\"..\")"
   ]
  },
  {
   "cell_type": "code",
   "execution_count": 3,
   "metadata": {},
   "outputs": [],
   "source": [
    "from src.agents import MinMaxAgent, RandomAgent, DoubleMoveAgent, GreedyAgent"
   ]
  },
  {
   "cell_type": "code",
   "execution_count": 4,
   "metadata": {},
   "outputs": [
    {
     "name": "stdout",
     "output_type": "stream",
     "text": [
      ".\n",
      "----------------------------------------------------------------------\n",
      "Ran 1 test in 0.000s\n",
      "\n",
      "OK\n"
     ]
    }
   ],
   "source": [
    "!python -m unittest discover tests"
   ]
  },
  {
   "cell_type": "code",
   "execution_count": 5,
   "metadata": {},
   "outputs": [],
   "source": [
    "def evaluate_agents(agent1, agent2, n_games=50):\n",
    "    \"\"\"\n",
    "    Laat agent1 en agent2 meerdere potjes Connect Four spelen.\n",
    "\n",
    "    Parameters:\n",
    "    - agent1: De eerste agent die deelneemt aan het spel.\n",
    "    - agent2: De tweede agent die deelneemt aan het spel. \n",
    "    - n_games (int, optioneel): Het aantal spellen dat de agents tegen elkaar spelen. \n",
    "\n",
    "    Returns:\n",
    "    - wins_agent1 (int): Het aantal overwinningen van agent1.\n",
    "    - wins_agent2 (int): Het aantal overwinningen van agent2.\n",
    "    - draws (int): Het aantal gelijke spelen.\n",
    "    \n",
    "    \"\"\"\n",
    "    wins_agent1 = 0\n",
    "    wins_agent2 = 0\n",
    "    draws = 0\n",
    "\n",
    "    for _ in range(n_games):\n",
    "        env = connect_four_v3.env(render_mode=None)\n",
    "        env.reset()\n",
    "        \n",
    "        done = False\n",
    "        \n",
    "        while not done:\n",
    "            obs = env.observe(env.agent_selection)\n",
    "            board = obs['observation'][:,:,0]\n",
    "            \n",
    "            current_player_id = 1 if env.agent_selection == \"player_0\" else 2\n",
    "            \n",
    "            # Kies de juiste agent\n",
    "            if current_player_id == agent1.player:\n",
    "                move = agent1.select_action(board)\n",
    "            else:\n",
    "                move = agent2.select_action(board)\n",
    "            \n",
    "            env.step(move)\n",
    "            done = any(env.terminations.values()) or any(env.truncations.values())\n",
    "\n",
    "        reward_p0 = env.rewards[\"player_0\"]\n",
    "        reward_p1 = env.rewards[\"player_1\"]\n",
    "        if reward_p0 == 1:\n",
    "            winner = 1\n",
    "        elif reward_p1 == 1:\n",
    "            winner = 2\n",
    "        else:\n",
    "            winner = 0 \n",
    "\n",
    "        if winner == agent1.player:\n",
    "            wins_agent1 += 1\n",
    "        elif winner == agent2.player:\n",
    "            wins_agent2 += 1\n",
    "        else:\n",
    "            draws += 1\n",
    "\n",
    "    return wins_agent1, wins_agent2, draws"
   ]
  },
  {
   "cell_type": "markdown",
   "metadata": {},
   "source": [
    "---\n",
    "<div style=\"background-color:white; text-align:center; vertical-align:middle; padding:50px 0; margin-top:5px; margin-bottom:5px\">\n",
    "    <h2 id=\"eda-title\" style=\"color:black; font-family: Verdana, sans-serif; font-size: 25px;\"><strong> Chapter 3: Verschillende agents tegen elkaar testen </strong></h2>\n",
    "</div>"
   ]
  },
  {
   "cell_type": "code",
   "execution_count": null,
   "metadata": {},
   "outputs": [
    {
     "name": "stdout",
     "output_type": "stream",
     "text": [
      "Resultaten over 2 potjes:\n",
      " - Rule-based agent (player=1) heeft gewonnen: 2\n",
      " - Random agent     (player=2) heeft gewonnen: 0\n",
      " - Gelijke spelen: 0\n"
     ]
    }
   ],
   "source": [
    "rule_agent = MinMaxAgent(player=1)\n",
    "random_agent = RandomAgent(player=2)\n",
    "\n",
    "wins_rule, wins_random, draws = evaluate_agents(rule_agent, random_agent, n_games=2)\n",
    "\n",
    "print(f\"Resultaten over 2 potjes:\")\n",
    "print(f\" - MinMax agent agent (player=1) heeft gewonnen: {wins_rule}\")\n",
    "print(f\" - Random agent       (player=2) heeft gewonnen: {wins_random}\")\n",
    "print(f\" - Gelijke spelen: {draws}\")"
   ]
  },
  {
   "cell_type": "code",
   "execution_count": null,
   "metadata": {},
   "outputs": [
    {
     "data": {
      "image/png": "[encoded data removed]",
      "text/plain": [
       "<Figure size 800x500 with 1 Axes>"
      ]
     },
     "metadata": {},
     "output_type": "display_data"
    }
   ],
   "source": [
    "labels = [\"MinMax agent wins\", \"Random agent wins\", \"Draws\"]\n",
    "scores = [wins_rule, wins_random, draws]\n",
    "colors = ['#4CAF50', '#F44336', '#FFC107']\n",
    "\n",
    "plt.figure(figsize=(8, 5))\n",
    "bars = plt.bar(labels, scores, color=colors, edgecolor='black', linewidth=1.2)\n",
    "\n",
    "plt.title(\"Connect Four: MinMaxAgent vs. Random (50 games)\", fontsize=14, fontweight='bold')\n",
    "plt.xlabel(\"Result Type\", fontsize=12)\n",
    "plt.ylabel(\"Aantal\", fontsize=12)\n",
    "\n",
    "for bar in bars:\n",
    "    yval = bar.get_height()\n",
    "    plt.text(\n",
    "        bar.get_x() + bar.get_width() / 2,\n",
    "        yval + 0.09,\n",
    "        int(yval),\n",
    "        ha='center',\n",
    "        va='top',  \n",
    "        fontsize=11,\n",
    "        fontweight='bold'\n",
    "    )\n",
    "\n",
    "plt.grid(axis='y', linestyle='--', alpha=0.7)\n",
    "plt.tight_layout()\n",
    "plt.show()"
   ]
  },
  {
   "cell_type": "code",
   "execution_count": null,
   "metadata": {},
   "outputs": [
    {
     "name": "stdout",
     "output_type": "stream",
     "text": [
      "[WARNING]: Illegal move made, game terminating with current player losing. \n",
      "obs['action_mask'] contains a mask of all legal moves that can be chosen.\n",
      "[WARNING]: Illegal move made, game terminating with current player losing. \n",
      "obs['action_mask'] contains a mask of all legal moves that can be chosen.\n",
      "[WARNING]: Illegal move made, game terminating with current player losing. \n",
      "obs['action_mask'] contains a mask of all legal moves that can be chosen.\n",
      "[WARNING]: Illegal move made, game terminating with current player losing. \n",
      "obs['action_mask'] contains a mask of all legal moves that can be chosen.\n",
      "[WARNING]: Illegal move made, game terminating with current player losing. \n",
      "obs['action_mask'] contains a mask of all legal moves that can be chosen.\n",
      "[WARNING]: Illegal move made, game terminating with current player losing. \n",
      "obs['action_mask'] contains a mask of all legal moves that can be chosen.\n",
      "[WARNING]: Illegal move made, game terminating with current player losing. \n",
      "obs['action_mask'] contains a mask of all legal moves that can be chosen.\n",
      "[WARNING]: Illegal move made, game terminating with current player losing. \n",
      "obs['action_mask'] contains a mask of all legal moves that can be chosen.\n",
      "[WARNING]: Illegal move made, game terminating with current player losing. \n",
      "obs['action_mask'] contains a mask of all legal moves that can be chosen.\n",
      "\n",
      "🏆 Eindscore (aantal gewonnen spellen):\n",
      "GreedyAgent: 23 overwinningen\n",
      "MinMaxAgent: 16 overwinningen\n",
      "DoubleMoveAgent: 10 overwinningen\n",
      "RandomAgent: 2 overwinningen\n",
      "\n",
      "📊 Match-details:\n",
      "RandomAgent vs MinMaxAgent -> 1 - 4 (Draws: 0)\n",
      "RandomAgent vs GreedyAgent -> 0 - 4 (Draws: 1)\n",
      "RandomAgent vs DoubleMoveAgent -> 0 - 3 (Draws: 2)\n",
      "MinMaxAgent vs RandomAgent -> 5 - 0 (Draws: 0)\n",
      "MinMaxAgent vs GreedyAgent -> 0 - 5 (Draws: 0)\n",
      "MinMaxAgent vs DoubleMoveAgent -> 4 - 1 (Draws: 0)\n",
      "GreedyAgent vs RandomAgent -> 5 - 0 (Draws: 0)\n",
      "GreedyAgent vs MinMaxAgent -> 5 - 0 (Draws: 0)\n",
      "GreedyAgent vs DoubleMoveAgent -> 2 - 0 (Draws: 3)\n",
      "DoubleMoveAgent vs RandomAgent -> 3 - 1 (Draws: 1)\n",
      "DoubleMoveAgent vs MinMaxAgent -> 0 - 3 (Draws: 2)\n",
      "DoubleMoveAgent vs GreedyAgent -> 3 - 2 (Draws: 0)\n"
     ]
    }
   ],
   "source": [
    "agents = {\n",
    "    \"RandomAgent\": RandomAgent,\n",
    "    \"MinMaxAgent\": MinMaxAgent,\n",
    "    \"GreedyAgent\": GreedyAgent,\n",
    "    \"DoubleMoveAgent\": DoubleMoveAgent\n",
    "}\n",
    "\n",
    "results = defaultdict(int)  # houdt totaal aantal gewonnen spellen per agent bij\n",
    "match_results = []\n",
    "\n",
    "n_games = 5  # aantal spellen per match-up\n",
    "\n",
    "for name1, Agent1 in agents.items():\n",
    "    for name2, Agent2 in agents.items():\n",
    "        if name1 == name2:\n",
    "            continue  # niet tegen zichzelf\n",
    "\n",
    "        agent1 = Agent1(player=1)\n",
    "        agent2 = Agent2(player=2)\n",
    "        \n",
    "        wins_1, wins_2, draws = evaluate_agents(agent1, agent2, n_games=n_games)\n",
    "        \n",
    "        results[name1] += wins_1\n",
    "        results[name2] += wins_2\n",
    "        \n",
    "        match_results.append({\n",
    "            \"Speler 1\": name1,\n",
    "            \"Speler 2\": name2,\n",
    "            \"Wins speler 1\": wins_1,\n",
    "            \"Wins speler 2\": wins_2,\n",
    "            \"Draws\": draws\n",
    "        })\n",
    "\n",
    "# Gesorteerde eindscore\n",
    "sorted_results = sorted(results.items(), key=lambda x: x[1], reverse=True)\n",
    "\n",
    "# Resultaten printen\n",
    "print(\"\\nEindscore:\")\n",
    "for name, score in sorted_results:\n",
    "    print(f\"{name}: {score} overwinningen\")\n",
    "\n",
    "print(\"\\nMatch-details:\")\n",
    "for match in match_results:\n",
    "    print(f\"{match['Speler 1']} vs {match['Speler 2']} -> \"\n",
    "          f\"{match['Wins speler 1']} - {match['Wins speler 2']} (Draws: {match['Draws']})\")"
   ]
  },
  {
   "cell_type": "code",
   "execution_count": 9,
   "metadata": {},
   "outputs": [
    {
     "data": {
      "image/png": "[encoded data removed]",
      "text/plain": [
       "<Figure size 1000x600 with 1 Axes>"
      ]
     },
     "metadata": {},
     "output_type": "display_data"
    }
   ],
   "source": [
    "agent_names = [name for name, _ in sorted_results]\n",
    "total_wins = [score for _, score in sorted_results]\n",
    "\n",
    "plt.figure(figsize=(10, 6))\n",
    "colors = plt.cm.tab20c.colors[:len(agent_names)]\n",
    "bars = plt.bar(agent_names, total_wins, color=colors, edgecolor='black')\n",
    "\n",
    "# Labels boven de balken\n",
    "for bar in bars:\n",
    "    height = bar.get_height()\n",
    "    plt.text(bar.get_x() + bar.get_width()/2, height - 0.3, str(height),\n",
    "             ha='center', va='top', fontsize=11, fontweight='bold')\n",
    "\n",
    "plt.title(\"Totale overwinningen per agent\", fontsize=15, fontweight='bold')\n",
    "plt.ylabel(\"Aantal overwinningen\", fontsize=12)\n",
    "plt.xticks(rotation=45)\n",
    "plt.grid(axis='y', linestyle='--', alpha=0.6)\n",
    "plt.tight_layout()\n",
    "plt.show()"
   ]
  },
  {
   "cell_type": "markdown",
   "metadata": {},
   "source": [
    "---\n",
    "<div style=\"background-color:white; text-align:center; vertical-align:middle; padding:50px 0; margin-top:5px; margin-bottom:5px\">\n",
    "    <h2 id=\"eda-title\" style=\"color:black; font-family: Verdana, sans-serif; font-size: 25px;\"><strong> Chapter 4: Verschillende agents uitgelegd </strong></h2>\n",
    "</div>\n",
    "\n",
    "Hier leggen wij kort uit wat de vier verschillende \"agents\" doen en wat hun strategie is. Ook leggen we per \"agent\" uit wat de voor- en nadelen zijn. \n",
    "\n",
    "\n",
    "---\n",
    "\n",
    "### 1. RandomAgent\n",
    "\n",
    "De RandomAgent is onze meest eenvoudige agent. Deze agent kiest willekeurig uit alle kolommen waar nog een zet mogelijk is. Deze agent vormt een handige baseline om andere agents mee te vergelijken. Dit doen we door elke andere \"agents\" tegen deze te laten spelen om te bepalen welke het beste werkt.\n",
    "\n",
    "**Hoe werkt het?**\n",
    "\n",
    "- De agent controleert welke kolommen nog beschikbaar zijn.\n",
    "- Uit deze kolommen kiest hij willekeurig één zet.\n",
    "\n",
    "Deze random agent is snel en eenvoudig te implementeren. Het doel is vooral om te testen of het spelmechanisme werkt en of agents correct reageren. Ook wordt dit gebruikt als baseline.\n",
    "\n",
    "**Voordelen:**\n",
    "- Simpel en robuust.\n",
    "- Werkt altijd, ongeacht de situatie.\n",
    "- Snelle beslissingen en weinig rekentijd nodig.\n",
    "\n",
    "**Nadelen:**\n",
    "- Geen strategie.\n",
    "- Makkelijk te verslaan door elke andere agent met strategie.\n",
    "- Geen aanpassingsvermogen.\n",
    "\n",
    "---\n",
    "\n",
    "### 2. MinMaxAgent\n",
    "\n",
    "De MinMaxAgent gebruikt een bijzondere zoekstrategie: Het heet de MinMaxAgent omdat het gebruik maakt van een MinMax-algoritme. Dit zoekt de best mogelijke zet door vooruit te denken en het spel te simuleren. Het kiest de zet die de kansen Maximaliseert en de tegenstander minimaliseert. Het gebruikt 'alpha-beta pruning' wat onnodige taken overslaat.\n",
    "\n",
    "**Hoe werkt het?**\n",
    "\n",
    "- De agent speelt het spel al meerdere zetten vooruit.\n",
    "- Hij kiest de zet die zijn kansen maximaliseert en de tegenstander minimaliseert.\n",
    "- Dankzij alpha-beta pruning worden onnodige takken in de overgeslagen.\n",
    "- Iteratieve verdieping laat de agent eerst snel schattingen maken en hierna zoekt hij steeds dieper naar betere zetten.\n",
    "- Belangrijke zetten hebben een hogere prioriteit zoals zetten in het midden van het bord.\n",
    "\n",
    "**Voordelen:**\n",
    "- Sterke agent, moeilijk te verslaan.\n",
    "- Past zich aan op basis van tijd.\n",
    "- Slimme strategie en doet aan blokkades.\n",
    "- Efficiënt dankzij alpha-beta pruning.\n",
    "\n",
    "**Nadelen:**\n",
    "- Verbruikt veel rekentijd bij een voller bord.\n",
    "- In situaties met veel goede zetten kan de agent fouten maken.\n",
    "\n",
    "---\n",
    "\n",
    "### 3. DoubleMoveAgent\n",
    "\n",
    "Deze DoubleMoveAgent probeert in Vier op een rij strategisch dubbele zetten te creëren en tegelijkertijd de tegenstander te blokkeren. Dit is hoe de agent werkt:\n",
    "\n",
    "**Hoe werkt het?**\n",
    "\n",
    "- De agent probeert eerst een dubbele zet te maken door in dezelfde kolom twee opeenvolgende stenen te plaatsen, zodat er direct winst ontstaat.\n",
    "- Als het creëren van een dubbele zet niet direct mogelijk is, probeert de agent de tegenstander te blokkeren\n",
    "- Als het blokkeren niet nodig is, probeert de agent een andere dubbele zet te creëren door:\n",
    "\n",
    "\n",
    "Dubbele dreigingen is een goede tactiek omdat ze de tegenstander onder druk zetten. Deze strategie is eenvoudiger te implementeren dan MinMax en is beter tegen zwakke agents.\n",
    "\n",
    "**Voordelen:**\n",
    "- De agent simuleert dubbele zetten in dezelfde kolom en kan zo snel winnen als de situatie dat toelaat.\n",
    "- Door te controleren op mogelijke winnende zetten van de tegenstander en deze direct te blokkeren, verkleint de agent de kans op verrassende overwinningen door de tegenstander.\n",
    "\n",
    "**Nadelen:**\n",
    "- Minder effectief als er weinig ruimte is voor dubbele dreigingen.\n",
    "- Voorspelbaar door vaste regels.\n",
    "- Werkt slecht tegen slimme agents.\n",
    "\n",
    "---\n",
    "\n",
    "### 4. GreedyAgent\n",
    "\n",
    "De GreedyAgent is een makkelijke en logsiche agent die alleen kijkt naar directe resultaten. In plaats van vooruit te denken kiest hij tijdens de zet de beste zet.\n",
    "\n",
    "**Hoe werkt het?**\n",
    "\n",
    "- De agent bekijkt alle mogelijke zetten.\n",
    "- Voor elke zet bekijkt hij de volgende bord toestand.\n",
    "- De zet met de hoogste directe score wordt gekozen.\n",
    "\n",
    "Deze strategie is snel en beter dan puur willekeurig kiezen. De agent neemt beslissingen gebaseerd op een simpele evaluatie zonder verdere voorspellingen.\n",
    "\n",
    "**Voordelen:**\n",
    "- Sneller dan MinMax dus minder rekenkracht nodig.\n",
    "- Werkt beter dan de RandomAgent, omdat het logische keuzes maakt.\n",
    "\n",
    "**Nadelen:**\n",
    "- Denkt niet vooruit, kan in een valstrik lopen tegen bijvoorbeeld de MinMax.\n",
    "- Herkent geen dubbele dreigingen of blokkades.\n",
    "\n",
    "---\n",
    "\n",
    "Deze vier agents zijn erg verschillend van simpel naar slimme agents. Door deze te laten spelen tegen elkaar en een baseline kunnen we bekijken welke agents het beste werken."
   ]
  },
  {
   "cell_type": "markdown",
   "metadata": {},
   "source": [
    "**Zelf spelen?**\n",
    "\n",
    "Met de volgende command kan het spel ook zelf gespeeld worden. Dit moet via de terminal worden uitgevord"
   ]
  },
  {
   "cell_type": "code",
   "execution_count": null,
   "metadata": {},
   "outputs": [],
   "source": [
    "!python src/main.py"
   ]
  },
  {
   "cell_type": "markdown",
   "metadata": {},
   "source": [
    "---\n",
    "<div style=\"background-color:white; text-align:center; vertical-align:middle; padding:50px 0; margin-top:5px; margin-bottom:5px\">\n",
    "    <h2 id=\"eda-title\" style=\"color:black; font-family: Verdana, sans-serif; font-size: 25px;\"><strong> Chapter 5: Resultaten van het testen </strong></h2>\n",
    "</div>"
   ]
  },
  {
   "cell_type": "markdown",
   "metadata": {},
   "source": [
    "Uit de bovenstaande grafiek blijkt dat de MinMaxAgent agent het vaakst heeft gewonnen. Dit laat zien dat het werken met regels effectief is. De Random agent, die willekeurige zetten doet zonder strategie, heeft daarentegen minder dan vijf keer gewonnen. Dit bevestigt dat de MinMaxAgent agent beter presteert."
   ]
  },
  {
   "cell_type": "markdown",
   "metadata": {},
   "source": [
    "---\n",
    "<div style=\"background-color:white; text-align:center; vertical-align:middle; padding:50px 0; margin-top:5px; margin-bottom:5px\">\n",
    "    <h2 id=\"eda-title\" style=\"color:black; font-family: Verdana, sans-serif; font-size: 25px;\"><strong> Chapter 6: Bronnenlijst </strong></h2>\n",
    "</div>"
   ]
  },
  {
   "cell_type": "markdown",
   "metadata": {},
   "source": [
    "- _Boven aan PettingZoo documentation. (n.d.)._ https://pettingzoo.farama.org/environments/classic/connect_four/\n",
    "\n",
    "- Connect-4-AI/alpha_beta_pruning.py at main · DenverCoder1/Connect-4-AI. (n.d.). GitHub. https://github.com/DenverCoder1/Connect-4-AI/blob/main/alpha_beta_pruning.py\n",
    "\n",
    "- _Marraccini, N. (2024, May 16). Predicting the Optimal Connect 4 Move with Computer Vision. Roboflow Blog._ https://blog.roboflow.com/connect-4-computer-vision/\n",
    "\n",
    "- _PettingZoo/pettingzoo/test/api_test.py at master · Farama-Foundation/PettingZoo. (n.d.). GitHub._ https://github.com/Farama-Foundation/PettingZoo/blob/master/pettingzoo/classic/connect_four/connect_four.py\n",
    "\n",
    "- _GeeksforGeeks. (2024, December 27). DefaultDict in Python. GeeksforGeeks._ https://www.geeksforgeeks.org/defaultdict-in-python/\n",
    "\n",
    "- _ChatGPT. (2025)._ https://chatgpt.com/c/67e6c0d2-b430-8013-9c07-88528297189c\n",
    "\n",
    "- _OpenAI. (2025, maart 28). Connect Four greedy agent explanation [ChatGPT-gesprek]._ https://chatgpt.com/share/67e6c187-3a50-800d-a21d-4b0a7b065553\n",
    "\n",
    "- _Adada. (2003, december 15). Connect Four playing AI agent._ https://0xadada.pub/2003/12/15/connect-four-playing-ai-agent/"
   ]
  }
 ],
 "metadata": {
  "kernelspec": {
   "display_name": "Python 3",
   "language": "python",
   "name": "python3"
  },
  "language_info": {
   "codemirror_mode": {
    "name": "ipython",
    "version": 3
   },
   "file_extension": ".py",
   "mimetype": "text/x-python",
   "name": "python",
   "nbconvert_exporter": "python",
   "pygments_lexer": "ipython3",
   "version": "3.8.16"
  }
 },
 "nbformat": 4,
 "nbformat_minor": 4
}
