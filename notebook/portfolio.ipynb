{
 "cells": [
  {
   "cell_type": "markdown",
   "metadata": {},
   "source": [
    "# Connect fours\n",
    "**Probleemstelling:** \n",
    "In Connect Four kan het erg lastig zijn voor spelers om telkens de beste zet te maken. Omdat het spel meerdere mogelijke zetten en strategische varianten heeft, zien spelers niet altijd alle kansen of dreigingen. Dit kan leiden tot fouten: spelers missen soms een winnende zet of laten de tegenstander een winnende kans liggen.\n",
    "\n",
    "**Wat willen we oplossen?**\n",
    "We willen een systeem bouwen dat automatisch de optimale zet kiest, zodat:\n",
    "\n",
    "Het risico op fouten afneemt.\n",
    "Het spel strategisch wordt benaderd, zowel om te winnen als om te voorkomen dat de tegenstander wint.\n",
    "\n",
    "\n",
    "**Een rule-based systeem is geschikt omdat Connect Four duidelijke regels heeft, zoals:**\n",
    "\n",
    "- Spelers doen om de beurt een zet.\n",
    "- Een schijf valt naar de laagste vrije plek in een kolom.\n",
    "- Het doel is om vier op een rij te krijgen.\n",
    "\n",
    "\n",
    "**Met een rule-based systeem kun je deze regels direct programmeren zonder dat het systeem zelf hoeft te leren via data. Je maakt gewoon een set regels die het systeem volgt, zoals:**\n",
    "\n",
    "- Blokkeer de tegenstander als die bijna wint.\n",
    "- Maak een winnende zet als die mogelijk is.\n",
    "- Neem het midden in beslag\n",
    "\n",
    "\n",
    "#### Voordelen van een rule based system\n",
    "- Eenvoudig te begrijpen: De regels van het spel zijn duidelijk en kunnen direct worden geprogrammeerd.\n",
    "- Snelle implementatie: Je hoeft geen grote dataset te verzamelen en te trainen zoals bij machine learning.\n",
    "- Controleerbaar gedrag: Je weet precies waarom het systeem een bepaalde beslissing neemt, omdat het regels volgt die jij zelf hebt geschreven.\n",
    "\n",
    "Machine learning zou hier minder effectief zijn omdat:\n",
    "- Je veel data nodig hebt om het model te trainen.\n",
    "- Het model mogelijk willekeurige beslissingen neemt zonder dat je weet waarom.\n",
    "- De beslissingen van het model minder goed uitlegbaar zijn.\n",
    "\n",
    "## Ontwerp van regelset\n",
    "De regels worden in de volgende volgorde toegepast:\n",
    "\n",
    "- Maak een winnende zet → Dit heeft de hoogste prioriteit, want winnen is het doel.\n",
    "- Blokkeer de tegenstander → Dit heeft als tweede prioriteit om verlies te voorkomen.\n",
    "- Speel naar het midden → Als er geen directe winst of blokkering nodig is, probeer dan het midden te nemen\n",
    "- Bouw kansen → Plaats de schijf zo dat je de kans krijgt om in de volgende beurt meerdere winnende lijnen te vormen.\n",
    "- Voorkom meerdere opties voor de tegenstander → Als geen van de bovenstaande regels geldt, zorg dat de tegenstander niet te veel voordeel krijgt."
   ]
  },
  {
   "cell_type": "code",
   "execution_count": 2,
   "metadata": {},
   "outputs": [],
   "source": [
    "import os\n",
    "os.chdir(\"..\")  # dit gaat 1 map omhoog"
   ]
  },
  {
   "cell_type": "code",
   "execution_count": 3,
   "metadata": {},
   "outputs": [
    {
     "name": "stdout",
     "output_type": "stream",
     "text": [
      ".\n",
      "----------------------------------------------------------------------\n",
      "Ran 1 test in 0.000s\n",
      "\n",
      "OK\n"
     ]
    }
   ],
   "source": [
    "!python -m unittest discover tests"
   ]
  },
  {
   "cell_type": "code",
   "execution_count": null,
   "metadata": {},
   "outputs": [],
   "source": [
    "import numpy as np\n",
    "import matplotlib.pyplot as plt\n",
    "from pettingzoo.classic import connect_four_v3\n",
    "\n",
    "from src.agents import ConnectFourAgent, RandomAgent\n",
    "\n",
    "def evaluate_agents(agent1, agent2, n_games=50):\n",
    "    \"\"\"\n",
    "    Laat agent1 en agent2 meerdere potjes Connect Four spelen.\n",
    "    Retourneert (#wins agent1, #wins agent2, #draws).\n",
    "    \"\"\"\n",
    "    wins_agent1 = 0\n",
    "    wins_agent2 = 0\n",
    "    draws = 0\n",
    "\n",
    "    for _ in range(n_games):\n",
    "        env = connect_four_v3.env(render_mode=None)\n",
    "        env.reset()\n",
    "        \n",
    "        done = False\n",
    "        \n",
    "        while not done:\n",
    "            obs = env.observe(env.agent_selection)\n",
    "            board = obs['observation'][:,:,0]\n",
    "            \n",
    "            current_player_id = 1 if env.agent_selection == \"player_0\" else 2\n",
    "            \n",
    "            # Kies de juiste agent\n",
    "            if current_player_id == agent1.player:\n",
    "                move = agent1.select_action(board)\n",
    "            else:\n",
    "                move = agent2.select_action(board)\n",
    "            \n",
    "            env.step(move)\n",
    "            done = any(env.terminations.values()) or any(env.truncations.values())\n",
    "        \n",
    "        # Wie won?\n",
    "        reward_p0 = env.rewards[\"player_0\"]\n",
    "        reward_p1 = env.rewards[\"player_1\"]\n",
    "        if reward_p0 == 1:\n",
    "            winner = 1\n",
    "        elif reward_p1 == 1:\n",
    "            winner = 2\n",
    "        else:\n",
    "            winner = 0  # gelijkspel\n",
    "\n",
    "        if winner == agent1.player:\n",
    "            wins_agent1 += 1\n",
    "        elif winner == agent2.player:\n",
    "            wins_agent2 += 1\n",
    "        else:\n",
    "            draws += 1\n",
    "\n",
    "    return wins_agent1, wins_agent2, draws"
   ]
  },
  {
   "cell_type": "code",
   "execution_count": null,
   "metadata": {},
   "outputs": [
    {
     "name": "stdout",
     "output_type": "stream",
     "text": [
      "[WARNING]: Illegal move made, game terminating with current player losing. \n",
      "obs['action_mask'] contains a mask of all legal moves that can be chosen.\n",
      "[WARNING]: Illegal move made, game terminating with current player losing. \n",
      "obs['action_mask'] contains a mask of all legal moves that can be chosen.\n",
      "[WARNING]: Illegal move made, game terminating with current player losing. \n",
      "obs['action_mask'] contains a mask of all legal moves that can be chosen.\n",
      "[WARNING]: Illegal move made, game terminating with current player losing. \n",
      "obs['action_mask'] contains a mask of all legal moves that can be chosen.\n",
      "Resultaten over 50 potjes:\n",
      " - Rule-based agent (player=1) heeft gewonnen: 44\n",
      " - Random agent     (player=2) heeft gewonnen: 2\n",
      " - Gelijke spelen: 4\n"
     ]
    }
   ],
   "source": [
    "# Maak de agents aan\n",
    "rule_agent = ConnectFourAgent(player=1)\n",
    "random_agent = RandomAgent(player=2)\n",
    "\n",
    "# 50 potjes spelen\n",
    "wins_rule, wins_random, draws = evaluate_agents(rule_agent, random_agent, n_games=50)\n",
    "\n",
    "print(f\"Resultaten over 50 potjes:\")\n",
    "print(f\" - Rule-based agent (player=1) heeft gewonnen: {wins_rule}\")\n",
    "print(f\" - Random agent     (player=2) heeft gewonnen: {wins_random}\")\n",
    "print(f\" - Gelijke spelen: {draws}\")"
   ]
  },
  {
   "cell_type": "code",
   "execution_count": 6,
   "metadata": {},
   "outputs": [
    {
     "data": {
      "image/png": "[encoded data removed]",
      "text/plain": [
       "<Figure size 640x480 with 1 Axes>"
      ]
     },
     "metadata": {},
     "output_type": "display_data"
    }
   ],
   "source": [
    "labels = [\"Rule-based wins\", \"Random wins\", \"Draws\"]\n",
    "scores = [wins_rule, wins_random, draws]\n",
    "\n",
    "plt.bar(labels, scores)\n",
    "plt.title(\"Connect Four: Rule-based vs. Random (50 games)\")\n",
    "plt.xlabel(\"Result Type\")\n",
    "plt.ylabel(\"Count\")\n",
    "plt.show()"
   ]
  },
  {
   "cell_type": "code",
   "execution_count": null,
   "metadata": {},
   "outputs": [],
   "source": [
    "!python src/main.py"
   ]
  }
 ],
 "metadata": {
  "kernelspec": {
   "display_name": "Python 3",
   "language": "python",
   "name": "python3"
  },
  "language_info": {
   "codemirror_mode": {
    "name": "ipython",
    "version": 3
   },
   "file_extension": ".py",
   "mimetype": "text/x-python",
   "name": "python",
   "nbconvert_exporter": "python",
   "pygments_lexer": "ipython3",
   "version": "3.8.16"
  }
 },
 "nbformat": 4,
 "nbformat_minor": 2
}
