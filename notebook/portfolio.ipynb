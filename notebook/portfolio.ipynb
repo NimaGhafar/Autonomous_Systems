{
 "cells": [
  {
   "cell_type": "markdown",
   "metadata": {},
   "source": [
    "# Connect fours\n"
   ]
  },
  {
   "cell_type": "code",
   "execution_count": 1,
   "metadata": {},
   "outputs": [],
   "source": [
    "#imports\n",
    "import os\n",
    "import numpy as np\n",
    "import matplotlib.pyplot as plt\n",
    "from pettingzoo.classic import connect_four_v3"
   ]
  },
  {
   "cell_type": "markdown",
   "metadata": {},
   "source": [
    "# Probleemstelling\n",
    "\n",
    "Connect Four is een strategisch bordspel waarin twee spelers om de beurt schijven in een bord laten vallen. Het doel is om als eerste vier schijven op een rij te krijgen, horizontaal, verticaal of diagonaal.Het kan erg lastig zijn voor spelers om telkens de beste zet te maken. Omdat het spel meerdere mogelijke zetten en strategische varianten heeft, zien spelers niet altijd alle kansen of dreigingen. Dit kan leiden tot fouten: spelers missen soms een winnende zet of laten de tegenstander een winnende kans liggen.\n",
    "\n",
    "**Doelstelling**\n",
    "\n",
    "We willen een systeem ontwikkelen dat automatisch de beste zet bepaalt om:\n",
    "\n",
    "- Het risico op fouten te verkleinen. \n",
    "- Het spel strategisch wordt benaderd, zowel om te winnen als om te voorkomen dat de tegenstander wint.\n",
    "\n",
    "\n",
    "**Een rule-based systeem is geschikt omdat Connect Four duidelijke regels heeft, zoals:**\n",
    "\n",
    "- Spelers doen om de beurt een zet.\n",
    "- Een schijf valt naar de laagste vrije plek in een kolom.\n",
    "- Het doel is om vier op een rij te krijgen.\n",
    "\n",
    "\n",
    "**Met een rule-based systeem kun je deze regels programmeren zonder dat het systeem zelf hoeft te leren via data. Je maakt gewoon een set regels die het systeem volgt, zoals:**\n",
    "\n",
    "- Blokkeer de tegenstander als die bijna wint.\n",
    "- Maak een winnende zet als dit mogelijk is.\n",
    "- Neem het midden in beslag\n",
    "\n",
    "\n",
    "**Voordelen van een rule based system**\n",
    "- Eenvoudig te begrijpen: De regels van Connect Four zijn helder en kunnen direct als logische voorwaarden worden geprogrammeerd.\n",
    "- Snelle implementatie: Je hoeft geen grote dataset te verzamelen en te trainen zoals bij machine learning.\n",
    "- Controleerbaarheid: Omdat het regels volgt die zelf zijn gemaakt, weet je waarom het systeem bepaalde beslissingen neemt.\n",
    "  \n",
    "**Machine learning zou hier minder effectief zijn omdat:**\n",
    "- Veel data nodig: Machine learning vereist grote hoeveelheden data om effectief te zijn.\n",
    "- Onvoorspelbaar: Het model mogelijk willekeurige beslissingen neemt zonder dat je weet waarom.\n",
    "- Minder uitlegbaar: Het is lastiger om te begrijpen waarom het model een bepaalde zet kiest."
   ]
  },
  {
   "cell_type": "markdown",
   "metadata": {},
   "source": [
    "# Methodologie\n",
    "\n",
    "**Ontwerp van de regels**\n",
    "\n",
    "Het rule-based systeem past regels in een vaste volgorde toe om de meest optimale zet te bepalen. De regels zijn als volgt:\n",
    "\n",
    "1.\tMaak een winnende zet: Controleer of er een zet is die direct leidt tot vier op een rij en voer deze uit.\n",
    "2.\tBlokkeer de tegenstander: Als de tegenstander dreigt te winnen, blokkeer deze zet.\n",
    "3.\tSpeel naar het midden: Indien er geen directe winst of blokkering nodig is, kies dan voor een zet in het midden van het bord. Dit geeft later meer kansen. \n",
    "4.\tBouw kansen: Plaats schijven zodanig dat ze toekomstige winnende lijnen mogelijk maken.\n",
    "5.\tVoorkom meerdere opties voor de tegenstander: Minimaliseer de kansen voor de tegenstander om verschillende dreigingen tegelijkertijd te vormen.\n",
    "\n",
    "\n",
    "**Implementatiedetails**\n",
    "\n",
    "De implementatie is opgebouwd uit de volgende stappen:\n",
    "\n",
    "1.\tSpelbord representatie: Er wordt een bord gemaakt waarin lege vakjes, schijven van speler 1 en schijven van speler 2 worden weergegeven.\n",
    "2.\tRegelcontrole: Elke regel wordt in volgorde toegepast. Zodra een regel een geldige zet vindt, wordt deze uitgevoerd.\n",
    "3.\tPrioritering: De regels worden in een vaste volgorde verwerkt. Wanneer een hogere prioriteitsregel wordt geactiveerd, wordt deze direct uitgevoerd en worden lagere regels overgeslagen."
   ]
  },
  {
   "cell_type": "code",
   "execution_count": 2,
   "metadata": {},
   "outputs": [],
   "source": [
    "os.chdir(\"..\")  # dit gaat 1 map omhoog"
   ]
  },
  {
   "cell_type": "code",
   "execution_count": 3,
   "metadata": {},
   "outputs": [],
   "source": [
    "from src.agents import ConnectFourAgent, RandomAgent"
   ]
  },
  {
   "cell_type": "code",
   "execution_count": 4,
   "metadata": {},
   "outputs": [
    {
     "name": "stdout",
     "output_type": "stream",
     "text": [
      ".\n",
      "----------------------------------------------------------------------\n",
      "Ran 1 test in 5.006s\n",
      "\n",
      "OK\n"
     ]
    }
   ],
   "source": [
    "!python -m unittest discover tests"
   ]
  },
  {
   "cell_type": "markdown",
   "metadata": {},
   "source": [
    "# Validatie en vergelijking"
   ]
  },
  {
   "cell_type": "code",
   "execution_count": 5,
   "metadata": {},
   "outputs": [],
   "source": [
    "def evaluate_agents(agent1, agent2, n_games=50):\n",
    "    \"\"\"\n",
    "    Laat agent1 en agent2 meerdere potjes Connect Four spelen.\n",
    "\n",
    "    Parameters:\n",
    "    - agent1: De eerste agent die deelneemt aan het spel.\n",
    "    - agent2: De tweede agent die deelneemt aan het spel. \n",
    "    - n_games (int, optioneel): Het aantal spellen dat de agents tegen elkaar spelen. \n",
    "\n",
    "    Returns:\n",
    "    - wins_agent1 (int): Het aantal overwinningen van agent1.\n",
    "    - wins_agent2 (int): Het aantal overwinningen van agent2.\n",
    "    - draws (int): Het aantal gelijke spelen.\n",
    "    \n",
    "    \"\"\"\n",
    "    wins_agent1 = 0\n",
    "    wins_agent2 = 0\n",
    "    draws = 0\n",
    "\n",
    "    for _ in range(n_games):\n",
    "        env = connect_four_v3.env(render_mode=None)\n",
    "        env.reset()\n",
    "        \n",
    "        done = False\n",
    "        \n",
    "        while not done:\n",
    "            obs = env.observe(env.agent_selection)\n",
    "            board = obs['observation'][:,:,0]\n",
    "            \n",
    "            current_player_id = 1 if env.agent_selection == \"player_0\" else 2\n",
    "            \n",
    "            # Kies de juiste agent\n",
    "            if current_player_id == agent1.player:\n",
    "                move = agent1.select_action(board)\n",
    "            else:\n",
    "                move = agent2.select_action(board)\n",
    "            \n",
    "            env.step(move)\n",
    "            done = any(env.terminations.values()) or any(env.truncations.values())\n",
    "\n",
    "        reward_p0 = env.rewards[\"player_0\"]\n",
    "        reward_p1 = env.rewards[\"player_1\"]\n",
    "        if reward_p0 == 1:\n",
    "            winner = 1\n",
    "        elif reward_p1 == 1:\n",
    "            winner = 2\n",
    "        else:\n",
    "            winner = 0  # gelijkspel\n",
    "\n",
    "        if winner == agent1.player:\n",
    "            wins_agent1 += 1\n",
    "        elif winner == agent2.player:\n",
    "            wins_agent2 += 1\n",
    "        else:\n",
    "            draws += 1\n",
    "\n",
    "    return wins_agent1, wins_agent2, draws"
   ]
  },
  {
   "cell_type": "code",
   "execution_count": null,
   "metadata": {},
   "outputs": [
    {
     "name": "stdout",
     "output_type": "stream",
     "text": [
      "Resultaten over 5 potjes:\n",
      " - Rule-based agent (player=1) heeft gewonnen: 8\n",
      " - Random agent     (player=2) heeft gewonnen: 2\n",
      " - Gelijke spelen: 0\n"
     ]
    }
   ],
   "source": [
    "# Maak de agents aan\n",
    "rule_agent = ConnectFourAgent(player=1)\n",
    "random_agent = RandomAgent(player=2)\n",
    "\n",
    "# 50 potjes spelen\n",
    "wins_rule, wins_random, draws = evaluate_agents(rule_agent, random_agent, n_games=10)\n",
    "\n",
    "print(f\"Resultaten over 10 potjes:\")\n",
    "print(f\" - Rule-based agent (player=1) heeft gewonnen: {wins_rule}\")\n",
    "print(f\" - Random agent     (player=2) heeft gewonnen: {wins_random}\")\n",
    "print(f\" - Gelijke spelen: {draws}\")"
   ]
  },
  {
   "cell_type": "code",
   "execution_count": 7,
   "metadata": {},
   "outputs": [
    {
     "data": {
      "image/png": "[encoded data removed]",
      "text/plain": [
       "<Figure size 640x480 with 1 Axes>"
      ]
     },
     "metadata": {},
     "output_type": "display_data"
    }
   ],
   "source": [
    "labels = [\"Rule-based agent wins\", \"Random agent wins\", \"Draws\"]\n",
    "scores = [wins_rule, wins_random, draws]\n",
    "\n",
    "plt.bar(labels, scores)\n",
    "plt.title(\"Connect Four: Rule-based vs. Random (50 games)\")\n",
    "plt.xlabel(\"Result Type\")\n",
    "plt.ylabel(\"Count\")\n",
    "plt.show()"
   ]
  },
  {
   "cell_type": "code",
   "execution_count": 6,
   "metadata": {},
   "outputs": [
    {
     "name": "stdout",
     "output_type": "stream",
     "text": [
      "Kies een kolom (0-6): \n"
     ]
    }
   ],
   "source": [
    "!python src/main.py"
   ]
  },
  {
   "cell_type": "markdown",
   "metadata": {},
   "source": [
    "# Resultaten\n",
    "\n",
    "Uit de bovenstaande grafiek blijkt dat de rule-based agent het vaakst heeft gewonnen. Dit laat zien dat het werken met regels effectief is. De Random agent, die willekeurige zetten doet zonder strategie, heeft daarentegen minder dan vijf keer gewonnen. Dit bevestigt dat de rule-based agent beter presteert."
   ]
  },
  {
   "cell_type": "markdown",
   "metadata": {},
   "source": [
    "# Refelctie\n",
    "\n",
    "**evaluatie**\n",
    "\n",
    "**beperkingen**"
   ]
  }
 ],
 "metadata": {
  "kernelspec": {
   "display_name": "Python 3",
   "language": "python",
   "name": "python3"
  },
  "language_info": {
   "codemirror_mode": {
    "name": "ipython",
    "version": 3
   },
   "file_extension": ".py",
   "mimetype": "text/x-python",
   "name": "python",
   "nbconvert_exporter": "python",
   "pygments_lexer": "ipython3",
   "version": "3.8.16"
  }
 },
 "nbformat": 4,
 "nbformat_minor": 4
}
