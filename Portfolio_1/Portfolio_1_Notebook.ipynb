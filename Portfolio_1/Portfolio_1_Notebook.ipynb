{
 "cells": [
  {
   "cell_type": "markdown",
   "metadata": {},
   "source": [
    "# Connect fours\n",
    "**Probleemstelling:** \n",
    "In Connect Four kan het erg lastig zijn voor spelers om telkens de beste zet te maken. Omdat het spel meerdere mogelijke zetten en strategische varianten heeft, zien spelers niet altijd alle kansen of dreigingen. Dit kan leiden tot fouten: spelers missen soms een winnende zet of laten de tegenstander een winnende kans liggen.\n",
    "\n",
    "**Wat willen we oplossen?**\n",
    "We willen een systeem bouwen dat automatisch de optimale zet kiest, zodat:\n",
    "\n",
    "Het risico op fouten afneemt.\n",
    "Het spel strategisch wordt benaderd, zowel om te winnen als om te voorkomen dat de tegenstander wint.\n",
    "\n",
    "\n",
    "**Een rule-based systeem is geschikt omdat Connect Four duidelijke regels heeft, zoals:**\n",
    "\n",
    "- Spelers doen om de beurt een zet.\n",
    "- Een schijf valt naar de laagste vrije plek in een kolom.\n",
    "- Het doel is om vier op een rij te krijgen.\n",
    "\n",
    "\n",
    "**Met een rule-based systeem kun je deze regels direct programmeren zonder dat het systeem zelf hoeft te leren via data. Je maakt gewoon een set regels die het systeem volgt, zoals:**\n",
    "\n",
    "- Blokkeer de tegenstander als die bijna wint.\n",
    "- Maak een winnende zet als die mogelijk is.\n",
    "- Neem het midden in beslag\n",
    "\n",
    "\n",
    "#### Voordelen van een rule based system\n",
    "- Eenvoudig te begrijpen: De regels van het spel zijn duidelijk en kunnen direct worden geprogrammeerd.\n",
    "- Snelle implementatie: Je hoeft geen grote dataset te verzamelen en te trainen zoals bij machine learning.\n",
    "- Controleerbaar gedrag: Je weet precies waarom het systeem een bepaalde beslissing neemt, omdat het regels volgt die jij zelf hebt geschreven.\n",
    "\n",
    "Machine learning zou hier minder effectief zijn omdat:\n",
    "- Je veel data nodig hebt om het model te trainen.\n",
    "- Het model mogelijk willekeurige beslissingen neemt zonder dat je weet waarom.\n",
    "- De beslissingen van het model minder goed uitlegbaar zijn.\n",
    "\n",
    "## Ontwerp van regelset\n",
    "De regels worden in de volgende volgorde toegepast:\n",
    "\n",
    "- Maak een winnende zet → Dit heeft de hoogste prioriteit, want winnen is het doel.\n",
    "- Blokkeer de tegenstander → Dit heeft als tweede prioriteit om verlies te voorkomen.\n",
    "- Speel naar het midden → Als er geen directe winst of blokkering nodig is, probeer dan het midden te nemen\n",
    "- Bouw kansen → Plaats de schijf zo dat je de kans krijgt om in de volgende beurt meerdere winnende lijnen te vormen.\n",
    "- Voorkom meerdere opties voor de tegenstander → Als geen van de bovenstaande regels geldt, zorg dat de tegenstander niet te veel voordeel krijgt."
   ]
  },
  {
   "cell_type": "code",
   "execution_count": null,
   "metadata": {},
   "outputs": [
    {
     "ename": "",
     "evalue": "",
     "output_type": "error",
     "traceback": [
      "\u001b[1;31mThe Kernel crashed while executing code in the current cell or a previous cell. \n",
      "\u001b[1;31mPlease review the code in the cell(s) to identify a possible cause of the failure. \n",
      "\u001b[1;31mClick <a href='https://aka.ms/vscodeJupyterKernelCrash'>here</a> for more info. \n",
      "\u001b[1;31mView Jupyter <a href='command:jupyter.viewOutput'>log</a> for further details."
     ]
    }
   ],
   "source": [
    "from pettingzoo.classic import connect_four_v3\n",
    "\n",
    "# Laad de omgeving\n",
    "env = connect_four_v3.env(render_mode=\"human\")\n",
    "\n",
    "# Reset de omgeving\n",
    "env.reset()\n",
    "\n",
    "# Render het spelbord\n",
    "env.render()\n",
    "\n"
   ]
  },
  {
   "cell_type": "code",
   "execution_count": null,
   "metadata": {},
   "outputs": [],
   "source": []
  }
 ],
 "metadata": {
  "kernelspec": {
   "display_name": "base",
   "language": "python",
   "name": "python3"
  },
  "language_info": {
   "codemirror_mode": {
    "name": "ipython",
    "version": 3
   },
   "file_extension": ".py",
   "mimetype": "text/x-python",
   "name": "python",
   "nbconvert_exporter": "python",
   "pygments_lexer": "ipython3",
   "version": "3.12.4"
  }
 },
 "nbformat": 4,
 "nbformat_minor": 2
}
